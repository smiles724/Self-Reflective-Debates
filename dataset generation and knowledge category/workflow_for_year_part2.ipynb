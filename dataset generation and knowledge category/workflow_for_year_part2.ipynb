{
  "cells": [
    {
      "cell_type": "code",
      "execution_count": null,
      "id": "70a93a96-c4d7-44a4-9d65-0b4e3600c627",
      "metadata": {
        "id": "70a93a96-c4d7-44a4-9d65-0b4e3600c627"
      },
      "outputs": [],
      "source": [
        "import pandas as pd\n",
        "import json\n",
        "import numpy as np\n",
        "import re\n",
        "import os"
      ]
    },
    {
      "cell_type": "markdown",
      "source": [
        "#### read data"
      ],
      "metadata": {
        "id": "wELeJ5NSm6Nu"
      },
      "id": "wELeJ5NSm6Nu"
    },
    {
      "cell_type": "code",
      "source": [
        "from data.prompts import prompts\n",
        "from openai import OpenAI"
      ],
      "metadata": {
        "id": "6hMDhBK0hIvW"
      },
      "id": "6hMDhBK0hIvW",
      "execution_count": null,
      "outputs": []
    },
    {
      "cell_type": "code",
      "execution_count": null,
      "id": "a9d8456a-667f-4ccf-ba0e-eecb91e8317a",
      "metadata": {
        "id": "a9d8456a-667f-4ccf-ba0e-eecb91e8317a",
        "colab": {
          "base_uri": "https://localhost:8080/"
        },
        "outputId": "ae40e408-6e75-49f1-fab9-d30217201b19"
      },
      "outputs": [
        {
          "output_type": "stream",
          "name": "stdout",
          "text": [
            "Loaded 600 year QA pairs.\n"
          ]
        }
      ],
      "source": [
        "data_path = \"\"\n",
        "qa_file = \"year_qa_pairs_600.json\"\n",
        "qa_filepath = os.path.join(data_path, qa_file)\n",
        "\n",
        "with open(qa_filepath, \"r\") as f:\n",
        "    year_qa_data = json.load(f)\n",
        "\n",
        "print(f\"Loaded {len(year_qa_data)} year QA pairs.\")"
      ]
    },
    {
      "cell_type": "markdown",
      "source": [
        "#### single test"
      ],
      "metadata": {
        "id": "Z6YPkOhIm4Ek"
      },
      "id": "Z6YPkOhIm4Ek"
    },
    {
      "cell_type": "code",
      "source": [
        "# Select one entry for testing.\n",
        "sample_entry = year_qa_data[0]  # for example, the first entry\n",
        "question = sample_entry[\"Question\"]\n",
        "context = sample_entry[\"Context\"]\n",
        "year_str = sample_entry[\"Answer\"]\n",
        "\n",
        "print(\"Original Question:\", question)\n",
        "print(\"Original Context (excerpt):\", context[:300])\n",
        "print(\"Original Answer:\", year_str)\n",
        "\n",
        "# Convert the answer to an integer.\n",
        "try:\n",
        "    year_int = int(year_str)\n",
        "except Exception as e:\n",
        "    print(\"Error converting answer to int:\", e)\n",
        "    year_int = None\n",
        "\n",
        "# Define the offsets (10 modifications, excluding 0)\n",
        "offsets = [-500, -400, -300, -200, -100, -80, -60, -40, -20, -10, 10, 20, 40, 60, 80, 100, 200, 300, 400, 500]\n",
        "#offsets = [200, 300, 400, 500]\n",
        "\n",
        "# Generate perturbations.\n",
        "perturbations = {}\n",
        "for offset in offsets:\n",
        "    new_year = year_int + offset\n",
        "    # Create a modified context by replacing the first occurrence of the original year.\n",
        "    # (You might adjust this if the year appears multiple times.)\n",
        "    new_statement = context.replace(year_str, str(new_year), 1)\n",
        "    perturbations[str(offset)] = {\n",
        "        \"modified_answer\": str(new_year),\n",
        "        \"modified_statement\": new_statement\n",
        "    }\n",
        "\n",
        "# Print the result.\n",
        "print(json.dumps(perturbations, indent=2))"
      ],
      "metadata": {
        "colab": {
          "base_uri": "https://localhost:8080/"
        },
        "id": "gJAxf4DJmP_0",
        "outputId": "7140c079-3111-45a0-909e-4bf5f9732b4b"
      },
      "id": "gJAxf4DJmP_0",
      "execution_count": null,
      "outputs": [
        {
          "output_type": "stream",
          "name": "stdout",
          "text": [
            "Original Question: In which year did Subhash Sureshchandra Deshmukh take oath as a Maharashtra Cabinet Minister?\n",
            "Original Context (excerpt): He took oath as Maharashtra Cabinet Minister on 7 July 2016.\n",
            "Original Answer: 2016\n",
            "{\n",
            "  \"-500\": {\n",
            "    \"modified_answer\": \"1516\",\n",
            "    \"modified_statement\": \"He took oath as Maharashtra Cabinet Minister on 7 July 1516.\"\n",
            "  },\n",
            "  \"-400\": {\n",
            "    \"modified_answer\": \"1616\",\n",
            "    \"modified_statement\": \"He took oath as Maharashtra Cabinet Minister on 7 July 1616.\"\n",
            "  },\n",
            "  \"-300\": {\n",
            "    \"modified_answer\": \"1716\",\n",
            "    \"modified_statement\": \"He took oath as Maharashtra Cabinet Minister on 7 July 1716.\"\n",
            "  },\n",
            "  \"-200\": {\n",
            "    \"modified_answer\": \"1816\",\n",
            "    \"modified_statement\": \"He took oath as Maharashtra Cabinet Minister on 7 July 1816.\"\n",
            "  },\n",
            "  \"-100\": {\n",
            "    \"modified_answer\": \"1916\",\n",
            "    \"modified_statement\": \"He took oath as Maharashtra Cabinet Minister on 7 July 1916.\"\n",
            "  },\n",
            "  \"-80\": {\n",
            "    \"modified_answer\": \"1936\",\n",
            "    \"modified_statement\": \"He took oath as Maharashtra Cabinet Minister on 7 July 1936.\"\n",
            "  },\n",
            "  \"-60\": {\n",
            "    \"modified_answer\": \"1956\",\n",
            "    \"modified_statement\": \"He took oath as Maharashtra Cabinet Minister on 7 July 1956.\"\n",
            "  },\n",
            "  \"-40\": {\n",
            "    \"modified_answer\": \"1976\",\n",
            "    \"modified_statement\": \"He took oath as Maharashtra Cabinet Minister on 7 July 1976.\"\n",
            "  },\n",
            "  \"-20\": {\n",
            "    \"modified_answer\": \"1996\",\n",
            "    \"modified_statement\": \"He took oath as Maharashtra Cabinet Minister on 7 July 1996.\"\n",
            "  },\n",
            "  \"-10\": {\n",
            "    \"modified_answer\": \"2006\",\n",
            "    \"modified_statement\": \"He took oath as Maharashtra Cabinet Minister on 7 July 2006.\"\n",
            "  },\n",
            "  \"10\": {\n",
            "    \"modified_answer\": \"2026\",\n",
            "    \"modified_statement\": \"He took oath as Maharashtra Cabinet Minister on 7 July 2026.\"\n",
            "  },\n",
            "  \"20\": {\n",
            "    \"modified_answer\": \"2036\",\n",
            "    \"modified_statement\": \"He took oath as Maharashtra Cabinet Minister on 7 July 2036.\"\n",
            "  },\n",
            "  \"40\": {\n",
            "    \"modified_answer\": \"2056\",\n",
            "    \"modified_statement\": \"He took oath as Maharashtra Cabinet Minister on 7 July 2056.\"\n",
            "  },\n",
            "  \"60\": {\n",
            "    \"modified_answer\": \"2076\",\n",
            "    \"modified_statement\": \"He took oath as Maharashtra Cabinet Minister on 7 July 2076.\"\n",
            "  },\n",
            "  \"80\": {\n",
            "    \"modified_answer\": \"2096\",\n",
            "    \"modified_statement\": \"He took oath as Maharashtra Cabinet Minister on 7 July 2096.\"\n",
            "  },\n",
            "  \"100\": {\n",
            "    \"modified_answer\": \"2116\",\n",
            "    \"modified_statement\": \"He took oath as Maharashtra Cabinet Minister on 7 July 2116.\"\n",
            "  },\n",
            "  \"200\": {\n",
            "    \"modified_answer\": \"2216\",\n",
            "    \"modified_statement\": \"He took oath as Maharashtra Cabinet Minister on 7 July 2216.\"\n",
            "  },\n",
            "  \"300\": {\n",
            "    \"modified_answer\": \"2316\",\n",
            "    \"modified_statement\": \"He took oath as Maharashtra Cabinet Minister on 7 July 2316.\"\n",
            "  },\n",
            "  \"400\": {\n",
            "    \"modified_answer\": \"2416\",\n",
            "    \"modified_statement\": \"He took oath as Maharashtra Cabinet Minister on 7 July 2416.\"\n",
            "  },\n",
            "  \"500\": {\n",
            "    \"modified_answer\": \"2516\",\n",
            "    \"modified_statement\": \"He took oath as Maharashtra Cabinet Minister on 7 July 2516.\"\n",
            "  }\n",
            "}\n"
          ]
        }
      ]
    },
    {
      "cell_type": "markdown",
      "source": [
        "#### For all of it"
      ],
      "metadata": {
        "id": "-j7hvgNbm2Aj"
      },
      "id": "-j7hvgNbm2Aj"
    },
    {
      "cell_type": "code",
      "source": [
        "# Containers for results and counters.\n",
        "successful_perturbations = []\n",
        "success_count = 0\n",
        "failure_count = 0\n",
        "\n",
        "# Process each QA pair.\n",
        "for entry in year_qa_data:\n",
        "    question = entry[\"Question\"]\n",
        "    context = entry[\"Context\"]\n",
        "    year_str = entry[\"Answer\"].strip()  # standard answer (a year as a string)\n",
        "\n",
        "    # Check if the standard answer is present in the context.\n",
        "    if year_str not in context:\n",
        "        failure_count += 1\n",
        "        continue  # Skip this QA pair if the year is not found in the context.\n",
        "\n",
        "    try:\n",
        "        year_int = int(year_str)\n",
        "    except Exception as e:\n",
        "        # If conversion fails, skip.\n",
        "        failure_count += 1\n",
        "        continue\n",
        "\n",
        "    # Define the absolute offsets: 10 modifications in increments of 20 years over [-100, 100] (excluding 0).\n",
        "    #offsets = [-15, -10, -5, -2, 2, 5, 10, 15]\n",
        "    #offsets = [200, 300, 400, 500]\n",
        "    offsets = [-500, -400, -300, -200, -100, -80, -60, -40, -20, -10, 10, 20, 40, 60, 80, 100, 200, 300, 400, 500]\n",
        "\n",
        "    perturbations = {}\n",
        "    # For each offset, create a modified year and a modified statement.\n",
        "    for offset in offsets:\n",
        "        new_year = year_int + offset\n",
        "        # Replace only the first occurrence of the standard answer in the context.\n",
        "        modified_statement = context.replace(year_str, str(new_year), 1)\n",
        "        perturbations[str(offset)] = {\n",
        "            \"modified_answer\": str(new_year),\n",
        "            \"modified_statement\": modified_statement\n",
        "        }\n",
        "\n",
        "    # Build a new entry with the original QA pair and the generated perturbations.\n",
        "    new_entry = {\n",
        "        \"Question\": question,\n",
        "        \"Context\": context,\n",
        "        \"StandardAnswer\": year_str,\n",
        "        \"Perturbations\": perturbations\n",
        "    }\n",
        "    successful_perturbations.append(new_entry)\n",
        "    success_count += 1\n",
        "\n",
        "print(f\"Successful perturbations: {success_count}\")\n",
        "print(f\"Failed QA pairs (year not found or conversion error): {failure_count}\")\n",
        "\n",
        "# Save only the successful entries to a new JSON file with a timestamp.\n",
        "\n",
        "save_filename = f\"year_qa_perturbations_{len(successful_perturbations)}_full_extended.json\"\n",
        "save_filepath = os.path.join(data_path, save_filename)\n",
        "\n",
        "with open(save_filepath, \"w\") as f:\n",
        "    json.dump(successful_perturbations, f, indent=2)\n",
        "\n",
        "print(f\"Perturbation data saved to {save_filepath}\")"
      ],
      "metadata": {
        "colab": {
          "base_uri": "https://localhost:8080/"
        },
        "id": "dw5MGnDpm0R_",
        "outputId": "15a6462d-ad8f-4800-cf9c-64db16c30d2d"
      },
      "id": "dw5MGnDpm0R_",
      "execution_count": null,
      "outputs": [
        {
          "output_type": "stream",
          "name": "stdout",
          "text": [
            "Successful perturbations: 588\n",
            "Failed QA pairs (year not found or conversion error): 12\n",
            "Perturbation data saved to /content/drive/MyDrive/LLM/ICL/StanfordClashEval-main/data/dataset/year_qa_perturbations_588_full_extended.json\n"
          ]
        }
      ]
    }
  ],
  "metadata": {
    "kernelspec": {
      "display_name": "Python 3 (ipykernel)",
      "language": "python",
      "name": "python3"
    },
    "language_info": {
      "codemirror_mode": {
        "name": "ipython",
        "version": 3
      },
      "file_extension": ".py",
      "mimetype": "text/x-python",
      "name": "python",
      "nbconvert_exporter": "python",
      "pygments_lexer": "ipython3",
      "version": "3.12.3"
    },
    "colab": {
      "provenance": []
    }
  },
  "nbformat": 4,
  "nbformat_minor": 5
}